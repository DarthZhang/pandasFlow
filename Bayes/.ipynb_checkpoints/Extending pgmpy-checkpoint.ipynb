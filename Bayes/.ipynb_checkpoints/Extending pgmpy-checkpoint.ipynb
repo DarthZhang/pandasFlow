{
 "cells": [
  {
   "cell_type": "code",
   "execution_count": 2,
   "metadata": {
    "collapsed": true
   },
   "outputs": [],
   "source": [
    "# Defining a model\n",
    "\n",
    "from pgmpy.models import BayesianModel\n",
    "from pgmpy.factors.discrete import TabularCPD\n",
    "\n",
    "model = BayesianModel([('A', 'J'), ('R', 'J'), ('J', 'Q'), ('J', 'L'), ('G', 'L')])\n",
    "cpd_a = TabularCPD('A', 2, values=[[0.2], [0.8]])\n",
    "cpd_r = TabularCPD('R', 2, values=[[0.4], [0.6]])\n",
    "cpd_j = TabularCPD('J', 2, values=[[0.9, 0.6, 0.7, 0.1],\n",
    "                                   [0.1, 0.4, 0.3, 0.9]],\n",
    "                  evidence=['A', 'R'], evidence_card=[2, 2])\n",
    "cpd_q = TabularCPD('Q', 2, values=[[0.9, 0.2], [0.1, 0.8]],\n",
    "                  evidence=['J'], evidence_card=[2])\n",
    "cpd_l = TabularCPD('L', 2, values=[[0.9, 0.45, 0.8, 0.1],\n",
    "                                   [0.1, 0.55, 0.2, 0.9]],\n",
    "                  evidence=['J', 'G'], evidence_card=[2, 2])\n",
    "cpd_g = TabularCPD('G', 2, values=[[0.6], [0.4]])\n",
    "\n",
    "model.add_cpds(cpd_a, cpd_r, cpd_j, cpd_q, cpd_l, cpd_g)"
   ]
  },
  {
   "cell_type": "code",
   "execution_count": 5,
   "metadata": {
    "collapsed": false
   },
   "outputs": [
    {
     "name": "stdout",
     "output_type": "stream",
     "text": [
      "+-----+----------+\n",
      "| A   |   phi(A) |\n",
      "|-----+----------|\n",
      "| A_0 |   0.6000 |\n",
      "| A_1 |   0.4000 |\n",
      "+-----+----------+\n"
     ]
    }
   ],
   "source": [
    "# Comparing the results with Variable Elimination Algorithm\n",
    "\n",
    "from pgmpy.inference import VariableElimination\n",
    "\n",
    "infer = VariableElimination(model)\n",
    "result = infer.query(['A'], evidence={'J': 0, 'R': 1})\n",
    "print(result['A'])"
   ]
  },
  {
   "cell_type": "markdown",
   "metadata": {},
   "source": [
    "Similarly we can also create new classes for Factor or CPDs and add them to networks and do inference over it or can write a new estimator class."
   ]
  }
 ],
 "metadata": {
  "anaconda-cloud": {},
  "kernelspec": {
   "display_name": "Python [Anaconda]",
   "language": "python",
   "name": "Python [Anaconda]"
  },
  "language_info": {
   "codemirror_mode": {
    "name": "ipython",
    "version": 2
   },
   "file_extension": ".py",
   "mimetype": "text/x-python",
   "name": "python",
   "nbconvert_exporter": "python",
   "pygments_lexer": "ipython2",
   "version": "2.7.12"
  }
 },
 "nbformat": 4,
 "nbformat_minor": 1
}
