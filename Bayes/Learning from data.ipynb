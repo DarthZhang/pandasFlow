{
 "cells": [
  {
   "cell_type": "markdown",
   "metadata": {},
   "source": [
    "We will try to learn from data using a very simple example of tossing a coin. We will first generate some data (30% heads and 70% tails) and will try to learn the CPD of the coin using Maximum Likelihood Estimator and Bayesian Estimator with Dirichlet prior."
   ]
  },
  {
   "cell_type": "code",
   "execution_count": 1,
   "metadata": {
    "collapsed": false
   },
   "outputs": [
    {
     "name": "stdout",
     "output_type": "stream",
     "text": [
      "    coin\n",
      "0      0\n",
      "1      0\n",
      "2      0\n",
      "3      0\n",
      "4      0\n",
      "5      0\n",
      "6      0\n",
      "7      0\n",
      "8      0\n",
      "9      0\n",
      "10     0\n",
      "11     0\n",
      "12     0\n",
      "13     0\n",
      "14     0\n",
      "15     0\n",
      "16     0\n",
      "17     0\n",
      "18     0\n",
      "19     0\n",
      "20     0\n",
      "21     0\n",
      "22     0\n",
      "23     0\n",
      "24     0\n",
      "25     0\n",
      "26     0\n",
      "27     0\n",
      "28     0\n",
      "29     0\n",
      "..   ...\n",
      "70     1\n",
      "71     1\n",
      "72     1\n",
      "73     1\n",
      "74     1\n",
      "75     1\n",
      "76     1\n",
      "77     1\n",
      "78     1\n",
      "79     1\n",
      "80     1\n",
      "81     1\n",
      "82     1\n",
      "83     1\n",
      "84     1\n",
      "85     1\n",
      "86     1\n",
      "87     1\n",
      "88     1\n",
      "89     1\n",
      "90     1\n",
      "91     1\n",
      "92     1\n",
      "93     1\n",
      "94     1\n",
      "95     1\n",
      "96     1\n",
      "97     1\n",
      "98     1\n",
      "99     1\n",
      "\n",
      "[100 rows x 1 columns]\n"
     ]
    }
   ],
   "source": [
    "# Generate data\n",
    "import numpy as np\n",
    "import pandas as pd\n",
    "\n",
    "raw_data = np.array([0] * 30 + [1] * 70) # Representing heads by 0 and tails by 1\n",
    "data = pd.DataFrame(raw_data, columns=['coin'])\n",
    "print(data)"
   ]
  },
  {
   "cell_type": "code",
   "execution_count": 2,
   "metadata": {
    "collapsed": false
   },
   "outputs": [
    {
     "name": "stdout",
     "output_type": "stream",
     "text": [
      "+---------+-----+\n",
      "| coin(0) | 0.3 |\n",
      "+---------+-----+\n",
      "| coin(1) | 0.7 |\n",
      "+---------+-----+\n"
     ]
    }
   ],
   "source": [
    "# Defining the Bayesian Model\n",
    "from pgmpy.models import BayesianModel\n",
    "from pgmpy.estimators import MaximumLikelihoodEstimator, BayesianEstimator\n",
    "\n",
    "model = BayesianModel()\n",
    "model.add_node('coin')\n",
    "\n",
    "# Fitting the data to the model using Maximum Likelihood Estimator\n",
    "model.fit(data, estimator=MaximumLikelihoodEstimator)\n",
    "print(model.get_cpds('coin'))"
   ]
  },
  {
   "cell_type": "code",
   "execution_count": 3,
   "metadata": {
    "collapsed": false
   },
   "outputs": [
    {
     "name": "stdout",
     "output_type": "stream",
     "text": [
      "+---------+-----+\n",
      "| coin(0) | 0.4 |\n",
      "+---------+-----+\n",
      "| coin(1) | 0.6 |\n",
      "+---------+-----+\n"
     ]
    }
   ],
   "source": [
    "# Fitting the data to the model using Bayesian Estimator with Dirichlet prior with equal pseudo counts.\n",
    "model.fit(data, estimator=BayesianEstimator, prior_type='dirichlet', pseudo_counts={'coin': [50, 50]})\n",
    "print(model.get_cpds('coin'))"
   ]
  },
  {
   "cell_type": "markdown",
   "metadata": {},
   "source": [
    "We can see that we get the results as expected. In the maximum likelihood case we got the probability just based on the data where as in the bayesian case we had a prior of $ P(H) = 0.5 $ and $ P(T) = 0.5 $, therefore with 30% heads and 70% tails in the data we got a posterior of $ P(H) = 0.4 $ and $ P(T) = 0.6 $.\n",
    "\n",
    "Similarly we can learn in case of more complex model. Let's take an example of the student model and compare the results in case of Maximum Likelihood estimator and Bayesian Estimator.\n",
    "\n",
    "## TODO: Add fig for Student example"
   ]
  },
  {
   "cell_type": "code",
   "execution_count": 4,
   "metadata": {
    "collapsed": false
   },
   "outputs": [
    {
     "name": "stdout",
     "output_type": "stream",
     "text": [
      "     D  I  G  L  S\n",
      "0    1  1  1  0  1\n",
      "1    0  0  1  1  1\n",
      "2    0  0  0  1  0\n",
      "3    1  1  1  1  1\n",
      "4    0  0  0  1  1\n",
      "5    1  1  1  0  0\n",
      "6    0  1  0  1  0\n",
      "7    0  1  0  0  0\n",
      "8    0  1  1  0  0\n",
      "9    1  1  0  0  1\n",
      "10   0  0  1  1  0\n",
      "11   0  1  1  1  1\n",
      "12   0  0  1  0  0\n",
      "13   1  0  1  1  0\n",
      "14   0  1  1  1  1\n",
      "15   1  0  0  1  1\n",
      "16   1  0  0  1  1\n",
      "17   1  1  0  1  1\n",
      "18   0  1  0  0  1\n",
      "19   0  0  1  1  1\n",
      "20   1  0  1  1  1\n",
      "21   1  0  0  1  1\n",
      "22   1  1  1  0  0\n",
      "23   0  0  0  1  0\n",
      "24   1  1  0  0  1\n",
      "25   1  0  1  1  0\n",
      "26   0  1  0  0  0\n",
      "27   0  0  1  1  1\n",
      "28   1  0  1  0  0\n",
      "29   0  0  0  0  1\n",
      "..  .. .. .. .. ..\n",
      "970  0  1  1  1  0\n",
      "971  1  1  0  0  1\n",
      "972  1  0  0  0  1\n",
      "973  0  1  0  1  1\n",
      "974  1  1  1  1  0\n",
      "975  0  0  0  0  0\n",
      "976  1  0  1  0  0\n",
      "977  0  1  1  0  1\n",
      "978  0  1  0  0  1\n",
      "979  0  0  1  0  1\n",
      "980  0  0  1  0  1\n",
      "981  0  0  1  1  0\n",
      "982  1  0  1  1  0\n",
      "983  1  0  0  0  0\n",
      "984  1  0  0  0  1\n",
      "985  0  1  1  0  0\n",
      "986  1  0  1  1  0\n",
      "987  1  1  0  1  1\n",
      "988  1  1  0  1  0\n",
      "989  0  1  0  1  1\n",
      "990  1  0  1  1  0\n",
      "991  1  1  0  0  0\n",
      "992  1  1  0  0  1\n",
      "993  1  1  0  1  1\n",
      "994  0  1  0  1  0\n",
      "995  0  0  0  1  1\n",
      "996  0  0  1  1  1\n",
      "997  1  0  1  0  1\n",
      "998  0  1  1  1  1\n",
      "999  1  1  0  0  1\n",
      "\n",
      "[1000 rows x 5 columns]\n"
     ]
    }
   ],
   "source": [
    "# Generating radom data with each variable have 2 states and equal probabilities for each state\n",
    "import numpy as np\n",
    "import pandas as pd\n",
    "\n",
    "raw_data = np.random.randint(low=0, high=2, size=(1000, 5))\n",
    "data = pd.DataFrame(raw_data, columns=['D', 'I', 'G', 'L', 'S'])\n",
    "print(data)"
   ]
  },
  {
   "cell_type": "code",
   "execution_count": 5,
   "metadata": {
    "collapsed": false
   },
   "outputs": [
    {
     "name": "stdout",
     "output_type": "stream",
     "text": [
      "CPD of D:\n",
      "+------+-------+\n",
      "| D(0) | 0.476 |\n",
      "+------+-------+\n",
      "| D(1) | 0.524 |\n",
      "+------+-------+\n",
      "CPD of G:\n",
      "+------+-------+---------------------+------+-------+\n",
      "| D    | D(0)  | D(0)                | D(1) | D(1)  |\n",
      "+------+-------+---------------------+------+-------+\n",
      "| I    | I(0)  | I(1)                | I(0) | I(1)  |\n",
      "+------+-------+---------------------+------+-------+\n",
      "| G(0) | 0.456 | 0.504424778761062   | 0.5  | 0.452 |\n",
      "+------+-------+---------------------+------+-------+\n",
      "| G(1) | 0.544 | 0.49557522123893805 | 0.5  | 0.548 |\n",
      "+------+-------+---------------------+------+-------+\n",
      "CPD of I:\n",
      "+------+-------+\n",
      "| I(0) | 0.524 |\n",
      "+------+-------+\n",
      "| I(1) | 0.476 |\n",
      "+------+-------+\n",
      "CPD of L:\n",
      "+------+------+------+\n",
      "| G    | G(0) | G(1) |\n",
      "+------+------+------+\n",
      "| L(0) | 0.5  | 0.5  |\n",
      "+------+------+------+\n",
      "| L(1) | 0.5  | 0.5  |\n",
      "+------+------+------+\n",
      "CPD of S:\n",
      "+------+------+------+\n",
      "| I    | I(0) | I(1) |\n",
      "+------+------+------+\n",
      "| S(0) | 0.5  | 0.5  |\n",
      "+------+------+------+\n",
      "| S(1) | 0.5  | 0.5  |\n",
      "+------+------+------+\n"
     ]
    }
   ],
   "source": [
    "# Defining the model\n",
    "from pgmpy.models import BayesianModel\n",
    "from pgmpy.estimators import MaximumLikelihoodEstimator, BayesianEstimator\n",
    "\n",
    "model = BayesianModel([('D', 'G'), ('I', 'G'), ('I', 'S'), ('G', 'L')])\n",
    "\n",
    "# Learing CPDs using Maximum Likelihood Estimators\n",
    "model.fit(data, estimator=MaximumLikelihoodEstimator)\n",
    "for cpd in model.get_cpds():\n",
    "    print(\"CPD of {variable}:\".format(variable=cpd.variable))\n",
    "    print(cpd)"
   ]
  },
  {
   "cell_type": "markdown",
   "metadata": {},
   "source": [
    "As the data was randomly generated with equal probabilities for each state we can see here that all the probability values are close to 0.5 which we expected. Now coming to the Bayesian Estimator:"
   ]
  },
  {
   "cell_type": "code",
   "execution_count": 6,
   "metadata": {
    "collapsed": false
   },
   "outputs": [
    {
     "name": "stdout",
     "output_type": "stream",
     "text": [
      "CPD of D:\n",
      "+------+-------+\n",
      "| D(0) | 0.388 |\n",
      "+------+-------+\n",
      "| D(1) | 0.612 |\n",
      "+------+-------+\n",
      "CPD of G:\n",
      "+------+--------+--------------------+--------------------+--------+\n",
      "| D    | D(0)   | D(0)               | D(1)               | D(1)   |\n",
      "+------+--------+--------------------+--------------------+--------+\n",
      "| I    | I(0)   | I(1)               | I(0)               | I(1)   |\n",
      "+------+--------+--------------------+--------------------+--------+\n",
      "| G(0) | 0.7312 | 0.7455138662316476 | 0.7354788069073783 | 0.7304 |\n",
      "+------+--------+--------------------+--------------------+--------+\n",
      "| G(1) | 0.2688 | 0.2544861337683524 | 0.2645211930926217 | 0.2696 |\n",
      "+------+--------+--------------------+--------------------+--------+\n",
      "CPD of I:\n",
      "+------+-------+\n",
      "| I(0) | 0.512 |\n",
      "+------+-------+\n",
      "| I(1) | 0.488 |\n",
      "+------+-------+\n",
      "CPD of L:\n",
      "+------+------+------+\n",
      "| G    | G(0) | G(1) |\n",
      "+------+------+------+\n",
      "| L(0) | 0.5  | 0.5  |\n",
      "+------+------+------+\n",
      "| L(1) | 0.5  | 0.5  |\n",
      "+------+------+------+\n",
      "CPD of S:\n",
      "+------+------+------+\n",
      "| I    | I(0) | I(1) |\n",
      "+------+------+------+\n",
      "| S(0) | 0.4  | 0.4  |\n",
      "+------+------+------+\n",
      "| S(1) | 0.6  | 0.6  |\n",
      "+------+------+------+\n"
     ]
    }
   ],
   "source": [
    "# Learning with Bayesian Estimator using dirichlet prior for each variable.\n",
    "\n",
    "pseudo_counts = {'D': [300, 700], 'I': [500, 500], 'G': [800, 200], 'L': [500, 500], 'S': [400, 600]}\n",
    "model.fit(data, estimator=BayesianEstimator, prior_type='dirichlet', pseudo_counts=pseudo_counts)\n",
    "for cpd in model.get_cpds():\n",
    "    print(\"CPD of {variable}:\".format(variable=cpd.variable))\n",
    "    print(cpd)"
   ]
  },
  {
   "cell_type": "markdown",
   "metadata": {},
   "source": [
    "Since the data was randomly generated with equal probabilities for each state, the data tries to bring the posterior probabilities close to 0.5. But because of the prior we will get the values in between the prior and 0.5."
   ]
  }
 ],
 "metadata": {
  "anaconda-cloud": {},
  "kernelspec": {
   "display_name": "Python [Anaconda]",
   "language": "python",
   "name": "Python [Anaconda]"
  },
  "language_info": {
   "codemirror_mode": {
    "name": "ipython",
    "version": 2
   },
   "file_extension": ".py",
   "mimetype": "text/x-python",
   "name": "python",
   "nbconvert_exporter": "python",
   "pygments_lexer": "ipython2",
   "version": "2.7.12"
  }
 },
 "nbformat": 4,
 "nbformat_minor": 1
}
